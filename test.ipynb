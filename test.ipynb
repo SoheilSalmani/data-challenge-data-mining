{
 "cells": [
  {
   "cell_type": "markdown",
   "metadata": {},
   "source": [
    "# Fouille de données : data challenge"
   ]
  },
  {
   "cell_type": "code",
   "execution_count": 1,
   "metadata": {},
   "outputs": [],
   "source": [
    "import pandas as pd\n",
    "import numpy as np\n",
    "import matplotlib.pyplot as plt\n",
    "from sklearn.preprocessing import LabelEncoder"
   ]
  },
  {
   "cell_type": "markdown",
   "metadata": {},
   "source": [
    "Dimensions du jeu de données (spectres) d'entraînement et de test :"
   ]
  },
  {
   "cell_type": "code",
   "execution_count": 2,
   "metadata": {},
   "outputs": [
    {
     "name": "stdout",
     "output_type": "stream",
     "text": [
      "Dimension jeu de données (spectres) d'entraînement : 3114 x 627\n",
      "Dimension jeu de données (spectres) de test : 1197 x 627\n"
     ]
    }
   ],
   "source": [
    "# Entraînement\n",
    "spectra_train = pd.read_csv(\"data/spectra-train.csv\", sep=\";\", header=None)\n",
    "n_spectra_train = spectra_train.shape[0]\n",
    "p = spectra_train.shape[1]\n",
    "\n",
    "# Test\n",
    "spectra_test = pd.read_csv(\"data/spectra-test.csv\", sep=\";\", header=None)\n",
    "n_spectra_test = spectra_test.shape[0]\n",
    "\n",
    "# Caractéristiques\n",
    "print(\"Dimension jeu de données (spectres) d'entraînement : {} x {}\".format(n_spectra_train, p))\n",
    "print(\"Dimension jeu de données (spectres) de test : {} x {}\".format(n_spectra_test, p))"
   ]
  },
  {
   "cell_type": "code",
   "execution_count": 3,
   "metadata": {},
   "outputs": [
    {
     "name": "stdout",
     "output_type": "stream",
     "text": [
      "42 catégories: ['sp_1' 'sp_10' 'sp_11' 'sp_12' 'sp_13' 'sp_14' 'sp_15' 'sp_16' 'sp_17'\n",
      " 'sp_18' 'sp_19' 'sp_2' 'sp_20' 'sp_21' 'sp_22' 'sp_23' 'sp_24' 'sp_25'\n",
      " 'sp_26' 'sp_27' 'sp_28' 'sp_29' 'sp_3' 'sp_30' 'sp_31' 'sp_32' 'sp_33'\n",
      " 'sp_34' 'sp_35' 'sp_36' 'sp_37' 'sp_38' 'sp_39' 'sp_4' 'sp_40' 'sp_41'\n",
      " 'sp_42' 'sp_5' 'sp_6' 'sp_7' 'sp_8' 'sp_9']\n"
     ]
    }
   ],
   "source": [
    "meta_train = pd.read_csv(\"data/meta-train.csv\", sep=\";\", header=0)\n",
    "species_train = np.array(meta_train.loc[:, 'species'])\n",
    "strain_train = np.array(meta_train.loc[:, 'strain'])\n",
    "species_names = np.unique(species_train)\n",
    "num_species = len(species_names)\n",
    "print(\"{} catégories: {}\".format(num_species, species_names))"
   ]
  },
  {
   "cell_type": "markdown",
   "metadata": {},
   "source": [
    "Encodage de chaque espèce avec `LabelEncoder` :"
   ]
  },
  {
   "cell_type": "code",
   "execution_count": 4,
   "metadata": {},
   "outputs": [
    {
     "data": {
      "image/png": "[encoded data removed]",
      "text/plain": [
       "<Figure size 1080x720 with 1 Axes>"
      ]
     },
     "metadata": {
      "needs_background": "light"
     },
     "output_type": "display_data"
    }
   ],
   "source": [
    "le = LabelEncoder()\n",
    "y_train = le.fit_transform(species_train)\n",
    "plt.figure(figsize=(15, 10))\n",
    "plt.bar(species_names, np.bincount(y_train)/9)\n",
    "plt.title(\"Répartition du nombre de spectres par espèce pour le jeu de données d'entraînement\")\n",
    "plt.xticks(rotation=90)\n",
    "plt.show()"
   ]
  },
  {
   "cell_type": "markdown",
   "metadata": {},
   "source": [
    "## Approche naïf avec 4 espèces"
   ]
  },
  {
   "cell_type": "markdown",
   "metadata": {},
   "source": [
    "On ne prend pas en compte les souches et on essaie de prédire pour chaque spectre indépendemment l'espèce, et on choisit l'espèce prédite majoritaire par souche."
   ]
  },
  {
   "cell_type": "code",
   "execution_count": 8,
   "metadata": {},
   "outputs": [
    {
     "name": "stdout",
     "output_type": "stream",
     "text": [
      "Dimension jeu de données (spectres) d'entraînement : 297 x 628\n"
     ]
    }
   ],
   "source": [
    "df = pd.concat([spectra_train, meta_train], axis=1)\n",
    "df = df.loc[df['species'].isin([\"sp_1\", \"sp_2\", \"sp_3\", \"sp_4\"])]\n",
    "X = df.drop(columns=\"strain\")\n",
    "y = df.loc[:, \"species\"]\n",
    "y_names = np.unique(y_train)\n",
    "n = X.shape[0]\n",
    "p = X.shape[1]\n",
    "\n",
    "# Caractéristiques\n",
    "print(\"Dimension jeu de données (spectres) d'entraînement : {} x {}\".format(n, p))"
   ]
  },
  {
   "cell_type": "code",
   "execution_count": 12,
   "metadata": {},
   "outputs": [
    {
     "data": {
      "image/png": "[encoded data removed]",
      "text/plain": [
       "<Figure size 576x360 with 1 Axes>"
      ]
     },
     "metadata": {
      "needs_background": "light"
     },
     "output_type": "display_data"
    }
   ],
   "source": [
    "le = LabelEncoder()\n",
    "y = le.fit_transform(y)\n",
    "plt.figure(figsize=(8, 5))\n",
    "plt.bar(y_names, np.bincount(y_train)/9)\n",
    "plt.title(\"Répartition du nombre de spectres par espèce pour le jeu de données d'entraînement\")\n",
    "plt.xticks(rotation=90)\n",
    "plt.show()"
   ]
  },
  {
   "cell_type": "markdown",
   "metadata": {},
   "source": [
    "ACP sur les 4 classes :"
   ]
  },
  {
   "cell_type": "code",
   "execution_count": null,
   "metadata": {},
   "outputs": [],
   "source": []
  }
 ],
 "metadata": {
  "kernelspec": {
   "display_name": "Python 3",
   "language": "python",
   "name": "python3"
  },
  "language_info": {
   "codemirror_mode": {
    "name": "ipython",
    "version": 3
   },
   "file_extension": ".py",
   "mimetype": "text/x-python",
   "name": "python",
   "nbconvert_exporter": "python",
   "pygments_lexer": "ipython3",
   "version": "3.7.4"
  }
 },
 "nbformat": 4,
 "nbformat_minor": 2
}
